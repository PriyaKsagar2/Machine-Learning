{
  "nbformat": 4,
  "nbformat_minor": 0,
  "metadata": {
    "colab": {
      "provenance": [],
      "authorship_tag": "ABX9TyPQ/wcdhMDlKRbdeWzVLNCJ",
      "include_colab_link": true
    },
    "kernelspec": {
      "name": "python3",
      "display_name": "Python 3"
    },
    "language_info": {
      "name": "python"
    }
  },
  "cells": [
    {
      "cell_type": "markdown",
      "metadata": {
        "id": "view-in-github",
        "colab_type": "text"
      },
      "source": [
        "<a href=\"https://colab.research.google.com/github/PriyaKsagar2/Machine-Learning/blob/main/AINN_exp_8.ipynb\" target=\"_parent\"><img src=\"https://colab.research.google.com/assets/colab-badge.svg\" alt=\"Open In Colab\"/></a>"
      ]
    },
    {
      "cell_type": "code",
      "execution_count": null,
      "metadata": {
        "id": "MGrtM4qYAkNh"
      },
      "outputs": [],
      "source": [
        "#Priya Kishor Kshirsagar\n",
        "#2019BEC134\n",
        "#B59"
      ]
    },
    {
      "cell_type": "code",
      "source": [
        "#Experiment 8"
      ],
      "metadata": {
        "id": "66FBzqr2HE5x"
      },
      "execution_count": null,
      "outputs": []
    },
    {
      "cell_type": "code",
      "source": [
        "import numpy as np"
      ],
      "metadata": {
        "id": "j_lAQ-VUG1P5"
      },
      "execution_count": null,
      "outputs": []
    },
    {
      "cell_type": "code",
      "source": [
        "\n",
        "def Bipolar_Sigmoid(val):\n",
        "    return (2/(1+np.exp(-val)))-1\n",
        "\n",
        "def linear(val):\n",
        "    return val\n",
        "\n",
        "def d_bipolar_sigmoid(val):\n",
        "    return 1/2*(1-val**2)\n",
        "\n",
        "def d_linear(val):\n",
        "    return 1\n",
        "\n",
        "\n",
        "#Given data\n",
        "X1,X2,X3,X4=[0,0,1],[0,1,1],[1,0,1],[1,1,1]\n",
        "X =np.vstack((X1,X2,X3,X4))\n",
        "d1,d2,d3,d4=0,1,1,0\n",
        "D=np.vstack((d1,d2,d3,d4))\n",
        "W=[1,-1,-1]\n",
        "V=np.array([[1,-1,1],[1,2,1]])"
      ],
      "metadata": {
        "id": "aZPbKJOaqlf8"
      },
      "execution_count": null,
      "outputs": []
    },
    {
      "cell_type": "code",
      "source": [
        "# Case-1\n",
        "activation1=Bipolar_Sigmoid\n",
        "activation2=linear\n",
        "dw=d_linear\n",
        "dv=d_bipolar_sigmoid\n",
        "\n",
        "def solver(X,d,W,V,activation1,activation2,E,c,d1,d2):\n",
        "    net1=np.dot(V,X)\n",
        "    o1=activation1(net1)\n",
        "    \n",
        "    arr=[1]\n",
        "    o1=np.append(o1,arr)\n",
        "    net2=np.dot(W,o1)\n",
        "    o2=activation2(net2)\n",
        "    E=E+(d-o2)\n",
        "\n",
        "    dw=c*(d-o2)*d1(o2)\n",
        "    W=W+dw*o1.T\n",
        "    dv0=c*(dw*W[0]*d2(o1[0]))\n",
        "    dv1=c*(dw*W[1]*d2(o1[1]))\n",
        "    dv=np.vstack((dv0,dv1))\n",
        "    V=V+dv*X.T    \n",
        "    return E,W,V\n",
        "\n",
        "E_prev=0\n",
        "E_min=0.5\n",
        "c= 0.2\n",
        "iteration= 0\n",
        "\n",
        "while(True):\n",
        "    E_prev=0\n",
        "    for i in range(4):\n",
        "        E_prev,W,V=solver(X[i],D[i],W,V,activation1,activation2,E_prev,c,dw,dv)\n",
        "    iteration=iteration+1\n",
        "    if(E_prev<=E_min ):\n",
        "        break\n",
        "\n",
        "print(V)\n",
        "print(W)\n",
        "print(iteration)"
      ],
      "metadata": {
        "colab": {
          "base_uri": "https://localhost:8080/"
        },
        "id": "AndwCZ3yRYdr",
        "outputId": "98f78914-abb7-4474-eade-4f255743b258"
      },
      "execution_count": null,
      "outputs": [
        {
          "output_type": "stream",
          "name": "stdout",
          "text": [
            "[[ 0.96551764 -0.86475264  1.12937531]\n",
            " [ 0.99871866  1.99646088  0.98247773]]\n",
            "[ 0.84359399 -0.00672547  0.04826806]\n",
            "1\n"
          ]
        }
      ]
    },
    {
      "cell_type": "code",
      "source": [
        "#case 2:\n",
        "activation1=Bipolar_Sigmoid\n",
        "activation2=Bipolar_Sigmoid\n",
        "dw=d_bipolar_sigmoid\n",
        "dv=d_bipolar_sigmoid\n",
        "E_prev=0\n",
        "E_min=0.5\n",
        "c=0.2\n",
        "iteration=0\n",
        "while(True):\n",
        "    E_prev=0\n",
        "    \n",
        "    for i in range(4):\n",
        "        E_prev,W,V=solver(X[i],D[i],W,V,activation1,activation2,E_prev,c,dw,dv)\n",
        "    iteration=iteration+1\n",
        "    if(E_prev<=E_min ):\n",
        "        break\n",
        "print(\"Final V={}\",V)\n",
        "print(\"W={}\",W)\n",
        "print(\"Iteration number= {}\",iteration)"
      ],
      "metadata": {
        "colab": {
          "base_uri": "https://localhost:8080/"
        },
        "id": "rsgeMxjj_W0h",
        "outputId": "26cf357b-7eed-4ff5-f90d-d58f1a91d17d"
      },
      "execution_count": null,
      "outputs": [
        {
          "output_type": "stream",
          "name": "stdout",
          "text": [
            "Final V={} [[ 0.96389647 -0.84951046  1.14421475]\n",
            " [ 0.99953175  1.99696617  0.9834871 ]]\n",
            "W={} [0.88380344 0.18812828 0.25262168]\n",
            "Iteration number= {} 3\n"
          ]
        }
      ]
    },
    {
      "cell_type": "code",
      "source": [
        "#Case 3 :\n",
        "activation1=linear\n",
        "activation2=Bipolar_Sigmoid\n",
        "dw=d_bipolar_sigmoid\n",
        "dv=d_linear\n",
        "E_prev=0\n",
        "E_min=0.5\n",
        "c=0.2\n",
        "iteration=0\n",
        "while(True):\n",
        "    E_prev=0\n",
        "    for i in range(4):\n",
        "        E_prev,W,V=solver(X[i],D[i],W,V,activation1,activation2,E_prev,c,dw,dv)\n",
        "    iteration=iteration+1\n",
        "    if(E_prev<=E_min ):\n",
        "        break\n",
        "print(\"Final V={}\",V)\n",
        "print(\"W={}\",W)\n",
        "print(\"Iteration number= {}\",iteration)"
      ],
      "metadata": {
        "colab": {
          "base_uri": "https://localhost:8080/"
        },
        "id": "IFx-d0hq_YwQ",
        "outputId": "620e989c-323a-4e39-d65c-b1ab7699eea3"
      },
      "execution_count": null,
      "outputs": [
        {
          "output_type": "stream",
          "name": "stdout",
          "text": [
            "Final V={} [[ 0.96063004 -0.84528072  1.14259981]\n",
            " [ 0.99877857  1.99876808  0.98433637]]\n",
            "W={} [0.83143816 0.2059642  0.24192512]\n",
            "Iteration number= {} 1\n"
          ]
        }
      ]
    }
  ]
}