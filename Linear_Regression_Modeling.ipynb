{
  "cells": [
    {
      "cell_type": "markdown",
      "metadata": {
        "id": "view-in-github",
        "colab_type": "text"
      },
      "source": [
        "<a href=\"https://colab.research.google.com/github/PriyaKsagar2/Machine-Learning/blob/main/Linear_Regression_Modeling.ipynb\" target=\"_parent\"><img src=\"https://colab.research.google.com/assets/colab-badge.svg\" alt=\"Open In Colab\"/></a>"
      ]
    },
    {
      "cell_type": "code",
      "source": [
        "#1. Create your own dataset containing (10 rows and 2 columns). \n",
        "#Print the dataset.\n",
        "\n",
        "import numpy as np\n",
        "import pandas as pd\n",
        "import matplotlib.pyplot as plt\n",
        "dataset = np.array([[5,6],[2,5],[8,3],[29,3],[3,7],[14,21],[25,30],[27,42],[56,63],[70,82]])\n",
        "print(dataset)\n",
        "x = [row[0] for row in dataset]\n",
        "y = [row[1] for row in dataset]\n",
        "print(\"first column:\", x)\n",
        "print(\"second column: \", y)\n"
      ],
      "metadata": {
        "id": "lIbZMi36_Zh9",
        "outputId": "53fb10c9-bc28-46d5-dc72-76777cf3143b",
        "colab": {
          "base_uri": "https://localhost:8080/"
        }
      },
      "execution_count": 1,
      "outputs": [
        {
          "output_type": "stream",
          "name": "stdout",
          "text": [
            "[[ 5  6]\n",
            " [ 2  5]\n",
            " [ 8  3]\n",
            " [29  3]\n",
            " [ 3  7]\n",
            " [14 21]\n",
            " [25 30]\n",
            " [27 42]\n",
            " [56 63]\n",
            " [70 82]]\n",
            "first column: [5, 2, 8, 29, 3, 14, 25, 27, 56, 70]\n",
            "second column:  [6, 5, 3, 3, 7, 21, 30, 42, 63, 82]\n"
          ]
        }
      ]
    },
    {
      "cell_type": "code",
      "source": [
        "#2. Define the functions for computing mean, variance and covariance.\n",
        "#print the respective values for a given dataset.\n",
        "\n",
        "def mean_func(dataset):\n",
        " return (sum(dataset) / len(dataset))\n",
        "\n",
        "def variance_func(dataset):\n",
        " dataset_mean = mean_func(dataset)\n",
        " return sum([(i - dataset_mean)**2 for i in dataset])\n",
        "\n",
        "def covariance_func(x, y):\n",
        " x_mean = mean_func(x)\n",
        " y_mean = mean_func(y)\n",
        " co_variance = 0.0\n",
        " for i in range(len(x)):\n",
        "   co_variance += (x[i] - x_mean) * (y[i] - y_mean)\n",
        " return co_variance\n",
        "\n",
        "print(\"mean of dataset:\", mean_func(dataset))\n",
        "print(\"variance of dataset:\", variance_func(dataset))\n",
        "print(\"covariance of dataset:\", covariance_func(x, y))"
      ],
      "metadata": {
        "id": "1IHhci2h_oDl",
        "outputId": "dab78229-4455-4fbf-e8e2-c05aad7dd4b6",
        "colab": {
          "base_uri": "https://localhost:8080/"
        }
      },
      "execution_count": 2,
      "outputs": [
        {
          "output_type": "stream",
          "name": "stdout",
          "text": [
            "mean of dataset: [23.9 26.2]\n",
            "variance of dataset: [4816.9 7061.6]\n",
            "covariance of dataset: 5356.2\n"
          ]
        }
      ]
    },
    {
      "cell_type": "code",
      "source": [
        "#3. Compute the linear regression coefficients using function and print it.\n",
        "def coefficients(dataset):\n",
        " x = [row[0] for row in dataset]\n",
        " y = [row[1] for row in dataset]\n",
        " x_mean, y_mean = mean_func(x), mean_func(y)\n",
        " b1 = covariance_func(x, y) / variance_func(x)\n",
        " b0 = y_mean - b1 * x_mean\n",
        " return [b0, b1]\n",
        "b0, b1 = coefficients(dataset)\n",
        "print('coefficients: B0: {:.3f}, B1: {:.3f}'.format(b0, b1))"
      ],
      "metadata": {
        "id": "WnIg8mnKCTIo",
        "outputId": "800dd706-f64e-48ed-990d-abbc5f3ce68a",
        "colab": {
          "base_uri": "https://localhost:8080/"
        }
      },
      "execution_count": 3,
      "outputs": [
        {
          "output_type": "stream",
          "name": "stdout",
          "text": [
            "coefficients: B0: -0.376, B1: 1.112\n"
          ]
        }
      ]
    },
    {
      "cell_type": "code",
      "source": [
        "#4a. Plot the variables containing the values from the dataset.\n",
        "print('x:', x)\n",
        "print('y:', y)\n",
        "plt.scatter(x, y)"
      ],
      "metadata": {
        "id": "O0TDlqUCD_1H",
        "outputId": "541b2345-a52f-4ccb-bba1-f6eae516e999",
        "colab": {
          "base_uri": "https://localhost:8080/",
          "height": 317
        }
      },
      "execution_count": null,
      "outputs": [
        {
          "output_type": "stream",
          "name": "stdout",
          "text": [
            "x: [5, 2, 8, 29, 3, 14, 25, 27, 56, 70]\n",
            "y: [6, 5, 3, 3, 7, 21, 30, 42, 63, 82]\n"
          ]
        },
        {
          "output_type": "execute_result",
          "data": {
            "text/plain": [
              "<matplotlib.collections.PathCollection at 0x7fec26ca3190>"
            ]
          },
          "metadata": {},
          "execution_count": 9
        },
        {
          "output_type": "display_data",
          "data": {
            "image/png": "[encoded data removed]",
            "text/plain": [
              "<Figure size 432x288 with 1 Axes>"
            ]
          },
          "metadata": {
            "needs_background": "light"
          }
        }
      ]
    },
    {
      "cell_type": "code",
      "source": [
        "#4b. plot the linear regression line using coefficients.\n",
        "\n",
        "plt.scatter(x, y)\n",
        "y_new = np.zeros(len(x))\n",
        "for i in range(len(x)):\n",
        " y_new[i] = b0 + b1 * x[i]\n",
        "plt.plot(x, y_new, 'r--')\n",
        "plt.xlabel('x-axis')\n",
        "plt.ylabel('y-axis')\n",
        "plt.title('Linear Regression')\n",
        "plt.show()"
      ],
      "metadata": {
        "id": "q4a-ebM-EGVQ",
        "outputId": "2db7d999-448e-4955-e71e-183af7126f60",
        "colab": {
          "base_uri": "https://localhost:8080/",
          "height": 295
        }
      },
      "execution_count": 4,
      "outputs": [
        {
          "output_type": "display_data",
          "data": {
            "text/plain": [
              "<Figure size 432x288 with 1 Axes>"
            ],
            "image/png": "[encoded data removed]"
          },
          "metadata": {
            "needs_background": "light"
          }
        }
      ]
    },
    {
      "cell_type": "code",
      "source": [
        "#5. Find the predicted output for unknown input value using linear regression coefficients.\n",
        "x_new = float(input(\"Enter the value of x: \"))\n",
        "y_new = b0 + b1 * x_new\n",
        "print('predicted output:', y_new)"
      ],
      "metadata": {
        "id": "v6c_VVPXEPLf",
        "outputId": "d20f054f-8337-4f77-e1b9-b8d266343ca4",
        "colab": {
          "base_uri": "https://localhost:8080/"
        }
      },
      "execution_count": 5,
      "outputs": [
        {
          "output_type": "stream",
          "name": "stdout",
          "text": [
            "Enter the value of x: 24\n",
            "predicted output: 26.31119599742573\n"
          ]
        }
      ]
    },
    {
      "cell_type": "code",
      "source": [
        "#6a  Create your own pandas Series and DataFrame and print it.\n",
        "series = pd.Series([1, 2, 3, 4, 5, 6, 7, 8, 9, 10])\n",
        "print(\"series:\", series)"
      ],
      "metadata": {
        "id": "W_NzEW1EEdI5",
        "outputId": "8e7623c7-cd1a-49cd-aaf1-6c34f884151e",
        "colab": {
          "base_uri": "https://localhost:8080/"
        }
      },
      "execution_count": 6,
      "outputs": [
        {
          "output_type": "stream",
          "name": "stdout",
          "text": [
            "series: 0     1\n",
            "1     2\n",
            "2     3\n",
            "3     4\n",
            "4     5\n",
            "5     6\n",
            "6     7\n",
            "7     8\n",
            "8     9\n",
            "9    10\n",
            "dtype: int64\n"
          ]
        }
      ]
    },
    {
      "cell_type": "code",
      "source": [
        "#6b  Create your own pandas Series and DataFrame and print it.\n",
        "\n",
        "a = {'name': ['raju', 'sham', 'sima', 'jon'], 'age': [21, 22, 23, 24]}\n",
        "df = pd.DataFrame(a)\n",
        "print(\"dataframe:\", df)"
      ],
      "metadata": {
        "id": "VhCmjDhrEjMJ",
        "outputId": "c4b39502-7740-460c-e0cc-a4e005cd9708",
        "colab": {
          "base_uri": "https://localhost:8080/"
        }
      },
      "execution_count": 7,
      "outputs": [
        {
          "output_type": "stream",
          "name": "stdout",
          "text": [
            "dataframe:    name  age\n",
            "0  raju   21\n",
            "1  sham   22\n",
            "2  sima   23\n",
            "3   jon   24\n"
          ]
        }
      ]
    },
    {
      "cell_type": "code",
      "source": [
        "#7. Read the insu.csv file using Pandas library. Print the head values. \n",
        "#Print the column values.\n",
        "insu = pd.read_csv('/insu.csv')\n",
        "print(\"head:\\n\", insu.head())\n",
        "print(\"\\ncolumns:\", insu.columns)"
      ],
      "metadata": {
        "id": "nSsy0lIlEpZE",
        "outputId": "d7fbac0a-f2a9-448c-f213-30d04ba90d8b",
        "colab": {
          "base_uri": "https://localhost:8080/"
        }
      },
      "execution_count": 8,
      "outputs": [
        {
          "output_type": "stream",
          "name": "stdout",
          "text": [
            "head:\n",
            "    X_Data      Y\n",
            "0     108  392.5\n",
            "1      19   46.2\n",
            "2      13   15.7\n",
            "3     124  422.2\n",
            "4      40  119.4\n",
            "\n",
            "columns: Index(['X_Data', 'Y'], dtype='object')\n"
          ]
        }
      ]
    },
    {
      "cell_type": "code",
      "source": [
        "#8. Find the linear regression coefficients for given file and print the values.\n",
        "b0, b1 = coefficients(insu.values)\n",
        "print('coefficients: B0: {:.3f}, B1: {:.3f}'.format(b0, b1))"
      ],
      "metadata": {
        "id": "RzR09GNYE6af",
        "outputId": "b5f52f83-fa14-494c-dbfe-960bc4513955",
        "colab": {
          "base_uri": "https://localhost:8080/"
        }
      },
      "execution_count": 9,
      "outputs": [
        {
          "output_type": "stream",
          "name": "stdout",
          "text": [
            "coefficients: B0: 19.994, B1: 3.414\n"
          ]
        }
      ]
    },
    {
      "cell_type": "code",
      "source": [
        "#9a. Plot the variables containing the values from the csv file.\n",
        "x = insu['X_Data']\n",
        "y = insu['Y']\n",
        "plt.scatter(x,y)\n",
        "plt.xlabel('x axis')\n",
        "plt.xlabel('y axis')"
      ],
      "metadata": {
        "id": "e6NLeIaHFFBY",
        "outputId": "8fe40253-0a93-4250-8037-9a2aadc9fcc2",
        "colab": {
          "base_uri": "https://localhost:8080/",
          "height": 296
        }
      },
      "execution_count": 10,
      "outputs": [
        {
          "output_type": "execute_result",
          "data": {
            "text/plain": [
              "Text(0.5, 0, 'y axis')"
            ]
          },
          "metadata": {},
          "execution_count": 10
        },
        {
          "output_type": "display_data",
          "data": {
            "text/plain": [
              "<Figure size 432x288 with 1 Axes>"
            ],
            "image/png": "[encoded data removed]"
          },
          "metadata": {
            "needs_background": "light"
          }
        }
      ]
    },
    {
      "cell_type": "code",
      "source": [
        "#9b. plot the linear regression line using coefficients.\n",
        "plt.scatter(x,y)\n",
        "y_new = np.zeros(len(x))\n",
        "for i in range(len(x)):\n",
        " y_new[i] = b0 + b1 * x[i]\n",
        "plt.plot(x, y_new, 'p--')\n",
        "plt.xlabel('x-axis')\n",
        "plt.ylabel('y-axis')\n",
        "plt.title('Linear Regression')"
      ],
      "metadata": {
        "id": "kcq9SzbFFPcI",
        "outputId": "0d324b5a-500c-40f2-aa40-39cdae8c82c6",
        "colab": {
          "base_uri": "https://localhost:8080/",
          "height": 312
        }
      },
      "execution_count": 11,
      "outputs": [
        {
          "output_type": "execute_result",
          "data": {
            "text/plain": [
              "Text(0.5, 1.0, 'Linear Regression')"
            ]
          },
          "metadata": {},
          "execution_count": 11
        },
        {
          "output_type": "display_data",
          "data": {
            "text/plain": [
              "<Figure size 432x288 with 1 Axes>"
            ],
            "image/png": "[encoded data removed]"
          },
          "metadata": {
            "needs_background": "light"
          }
        }
      ]
    },
    {
      "cell_type": "code",
      "source": [
        "#10. Find the predicted output for unknown input values using linear regression coefficients. \n",
        "#print it. (for insu.csv dataset)\n",
        "\n",
        "x_new = float(input(\"Enter the value of x: \"))\n",
        "y_new = b0 + b1 * x_new\n",
        "print('predicted output:', y_new)"
      ],
      "metadata": {
        "id": "aAFpKQ9EFJCL",
        "outputId": "35f24313-4db3-44ba-a5ce-b1c62174066e",
        "colab": {
          "base_uri": "https://localhost:8080/"
        }
      },
      "execution_count": 12,
      "outputs": [
        {
          "output_type": "stream",
          "name": "stdout",
          "text": [
            "Enter the value of x: 32\n",
            "predicted output: 129.23683968123854\n"
          ]
        }
      ]
    },
    {
      "cell_type": "code",
      "source": [],
      "metadata": {
        "id": "HV_Fgqvq8MOw"
      },
      "execution_count": null,
      "outputs": []
    }
  ],
  "metadata": {
    "colab": {
      "provenance": [],
      "include_colab_link": true
    },
    "kernelspec": {
      "display_name": "Python 3",
      "name": "python3"
    }
  },
  "nbformat": 4,
  "nbformat_minor": 0
}